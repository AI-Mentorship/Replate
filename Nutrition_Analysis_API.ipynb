{
  "nbformat": 4,
  "nbformat_minor": 0,
  "metadata": {
    "colab": {
      "provenance": []
    },
    "kernelspec": {
      "name": "python3",
      "display_name": "Python 3"
    },
    "language_info": {
      "name": "python"
    }
  },
  "cells": [
    {
      "cell_type": "code",
      "execution_count": null,
      "metadata": {
        "id": "4O0VL2gvbJmk",
        "collapsed": true
      },
      "outputs": [],
      "source": [
        "!pip install transformers torch pillow requests\n",
        "\n",
        "from transformers import ViTFeatureExtractor, ViTForImageClassification\n",
        "import torch\n",
        "from PIL import Image\n",
        "import requests"
      ]
    },
    {
      "cell_type": "code",
      "source": [
        "# Load the pretrained food image classification model\n",
        "model_name = \"nateraw/food\"\n",
        "extractor = ViTFeatureExtractor.from_pretrained(model_name)\n",
        "model = ViTForImageClassification.from_pretrained(model_name)"
      ],
      "metadata": {
        "id": "vrDFkHTfbRdI",
        "collapsed": true
      },
      "execution_count": null,
      "outputs": []
    },
    {
      "cell_type": "code",
      "source": [
        "# USDA API setup\n",
        "API_KEY = \"G7raQzpCDSdqWXdAbXm6abn12M63WL3Z47ySoPuQ\"  # your USDA key\n",
        "USDA_URL = \"https://api.nal.usda.gov/fdc/v1/foods/search\"\n",
        "OPENFOOD_URL = \"https://world.openfoodfacts.org/api/v2/search\""
      ],
      "metadata": {
        "id": "z1z16ef-bTTX"
      },
      "execution_count": 4,
      "outputs": []
    },
    {
      "cell_type": "code",
      "source": [
        "# Specified search instead of full name from pretrained model\n",
        "# normalizes text to be readable by human and API\n",
        "def clean_query(q):\n",
        "    \"\"\"Make model label more USDA-friendly.\"\"\"\n",
        "    q = q.lower().replace(\"_\", \" \").strip()\n",
        "    mappings = {\n",
        "        \"spaghetti bolognese\": \"spaghetti with meat sauce\",\n",
        "        \"grilled cheese sandwich\": \"grilled cheese\",\n",
        "        \"chicken curry\": \"chicken, curry\",\n",
        "        \"apple pie\": \"pie, apple\",\n",
        "        \"fried rice\": \"rice, fried\",\n",
        "        \"hamburger\": \"beef patty\",\n",
        "        \"ice cream\": \"ice cream, vanilla\"\n",
        "    }\n",
        "    return mappings.get(q, q)\n",
        "\n",
        "# this function takes in the parsed or recognized food name and searches the USDA FoodData Central API for it\n",
        "def search_usda(query):\n",
        "    \"\"\"Search the USDA FoodData Central database.\"\"\"\n",
        "    params = {\n",
        "        \"api_key\": API_KEY,\n",
        "        \"query\": query,\n",
        "        \"dataType\": [\"Foundation\", \"Survey (FNDDS)\"],\n",
        "        \"pageSize\": 1\n",
        "    }\n",
        "    r = requests.get(USDA_URL, params=params)\n",
        "    data = r.json()\n",
        "    if \"foods\" in data and data[\"foods\"]:\n",
        "        food = data[\"foods\"][0]\n",
        "        return {\n",
        "            \"source\": \"USDA\",\n",
        "            \"name\": food[\"description\"],\n",
        "            \"nutrients\": food.get(\"foodNutrients\", [])\n",
        "        }\n",
        "    return None\n",
        "\n",
        "# when the parsed in food from the pretrained model isn't recognized by USDA API, OpenFood API is searched\n",
        "def search_openfoodfacts(query):\n",
        "    \"\"\"Fallback: use Open Food Facts if USDA has no match.\"\"\"\n",
        "    r = requests.get(OPENFOOD_URL, params={\"search_terms\": query, \"fields\": \"product_name,nutriments\", \"page_size\": 1})\n",
        "    data = r.json()\n",
        "    products = data.get(\"products\", [])\n",
        "    if products:\n",
        "        prod = products[0]\n",
        "        return {\n",
        "            \"source\": \"OpenFoodFacts\",\n",
        "            \"name\": prod.get(\"product_name\", \"Unknown product\"),\n",
        "            \"nutrients\": prod.get(\"nutriments\", {})\n",
        "        }\n",
        "    return None\n",
        "\n",
        "# based on the food name the appropriate nutrients breakdown is retrieved\n",
        "def get_food_data(pred_class):\n",
        "    \"\"\"Unified lookup: USDA → fallback to Open Food Facts.\"\"\"\n",
        "    query = clean_query(pred_class)\n",
        "    print(f\"\\nSearching for: {query}\")\n",
        "\n",
        "    result = search_usda(query)\n",
        "    if not result:\n",
        "        short_query = query.split()[0]\n",
        "        print(f\"No USDA match for '{query}'. Retrying with '{short_query}'...\")\n",
        "        result = search_usda(short_query)\n",
        "\n",
        "    if not result:\n",
        "        print(\"Trying Open Food Facts...\")\n",
        "        result = search_openfoodfacts(query)\n",
        "\n",
        "    if result:\n",
        "        print(f\"\\n {result['source']} match: {result['name']}\")\n",
        "        return result\n",
        "    else:\n",
        "        print(\"No food found in any database.\")\n",
        "        return None"
      ],
      "metadata": {
        "id": "qFMWOwKzbVIz"
      },
      "execution_count": 5,
      "outputs": []
    },
    {
      "cell_type": "code",
      "source": [
        "# Upload an image from your computer\n",
        "from google.colab import files\n",
        "uploaded = files.upload()\n",
        "\n",
        "# Use the uploaded file name\n",
        "image_path = list(uploaded.keys())[0]\n",
        "image = Image.open(image_path).convert(\"RGB\")\n",
        "\n",
        "# Predict food label\n",
        "inputs = extractor(images=image, return_tensors=\"pt\")\n",
        "with torch.no_grad():\n",
        "    outputs = model(**inputs)\n",
        "preds = torch.nn.functional.softmax(outputs.logits, dim=-1)\n",
        "\n",
        "pred_class = model.config.id2label[preds.argmax().item()]\n",
        "print(f\"\\nDetected food: {pred_class}\")"
      ],
      "metadata": {
        "id": "-HWdypTrbeQQ",
        "collapsed": true
      },
      "execution_count": null,
      "outputs": []
    },
    {
      "cell_type": "code",
      "source": [
        "# Lookup food information from USDA or Open Food Facts\n",
        "food_info = get_food_data(pred_class)"
      ],
      "metadata": {
        "id": "o5YtMd2Mbf7r",
        "collapsed": true
      },
      "execution_count": null,
      "outputs": []
    },
    {
      "cell_type": "code",
      "source": [
        "import pandas as pd\n",
        "\n",
        "if food_info and food_info[\"source\"] == \"USDA\":\n",
        "    nutrients = food_info[\"nutrients\"]\n",
        "    key_nutrients = [\"Energy\", \"Protein\", \"Total lipid (fat)\", \"Carbohydrate, by difference\"] # listed nutrients\n",
        "    rows = [\n",
        "        {\"Nutrient\": n[\"nutrientName\"], \"Amount\": n[\"value\"], \"Unit\": n[\"unitName\"]} # column names\n",
        "        for n in nutrients if n[\"nutrientName\"] in key_nutrients\n",
        "    ]\n",
        "    if rows:\n",
        "        display(pd.DataFrame(rows))\n",
        "    else:\n",
        "        print(\"No key nutrients found.\")\n",
        "elif food_info and food_info[\"source\"] == \"OpenFoodFacts\":\n",
        "    nutr = food_info[\"nutrients\"]\n",
        "    df = pd.DataFrame([nutr]).T.reset_index()\n",
        "    df.columns = [\"Nutrient\", \"Value\"]\n",
        "    display(df)"
      ],
      "metadata": {
        "id": "I6VT3_U8bgeE",
        "collapsed": true
      },
      "execution_count": null,
      "outputs": []
    }
  ]
}